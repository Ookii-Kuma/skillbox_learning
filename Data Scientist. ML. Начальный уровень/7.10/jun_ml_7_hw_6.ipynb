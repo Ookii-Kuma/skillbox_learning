{
 "cells": [
  {
   "cell_type": "markdown",
   "metadata": {
    "id": "B3KaF1cvPTEr"
   },
   "source": [
    "## Урок 10. Домашнее задание \n",
    "\n",
    "### 10.1 Домашнее задание начального уровня\n",
    "\n",
    "Обучите *k-means* для количества кластеров $k=4$ на датасете `data/clustering.pkl`. Как изменилась метрика силуэтта? Стало лучше или хуже? Какое количество кластеров лучше, два или четыре?"
   ]
  },
  {
   "cell_type": "code",
   "execution_count": 1,
   "metadata": {
    "id": "4EerOYSgPTEu"
   },
   "outputs": [
    {
     "name": "stdout",
     "output_type": "stream",
     "text": [
      "Качество кластеризации (2 кластера) по метрике силуэтта 0.447\n",
      "Качество кластеризации (4 кластера) по метрике силуэтта 0.442\n"
     ]
    }
   ],
   "source": [
    "# -- ВАШ КОД ТУТ --\n",
    "\n",
    "### Метрика ухудшилась, 2 кластера лучше\n",
    "\n",
    "import pickle\n",
    "import numpy as np\n",
    "from sklearn.cluster import KMeans\n",
    "\n",
    "# данные получены с помощью функции make_classification \n",
    "with open('clustering.pkl', 'rb') as f:\n",
    "    data_clustering = pickle.load(f)\n",
    "\n",
    "X = np.array(data_clustering['X'])\n",
    "Y = np.array(data_clustering['Y'])\n",
    "\n",
    "\n",
    "\n",
    "model = KMeans(n_clusters=2).fit(X)\n",
    "from sklearn.metrics import silhouette_score\n",
    "score = silhouette_score(X, model.labels_)\n",
    "print(\"Качество кластеризации (2 кластера) по метрике силуэтта %.3f\" % score)\n",
    "\n",
    "model = KMeans(n_clusters=4).fit(X)\n",
    "from sklearn.metrics import silhouette_score\n",
    "score = silhouette_score(X, model.labels_)\n",
    "print(\"Качество кластеризации (4 кластера) по метрике силуэтта %.3f\" % score)"
   ]
  },
  {
   "cell_type": "markdown",
   "metadata": {
    "id": "iUCVoJeaPTEz"
   },
   "source": [
    "\n",
    "### 10.2 Домашнее задание начального уровня\n",
    "\n",
    "Обучите *k-means* для количества кластеров $k=4$ на датасете `data/clustering.pkl`. Как изменилась метрика *AMI*? Стало лучше или хуже? Какое количество кластеров лучше по метрике AMI?"
   ]
  },
  {
   "cell_type": "code",
   "execution_count": 2,
   "metadata": {
    "id": "Q6sYr2h3PTE1"
   },
   "outputs": [
    {
     "name": "stdout",
     "output_type": "stream",
     "text": [
      "Качество кластеризации (2 кластера) по метрике AMI 0.929\n",
      "Качество кластеризации (4 кластера) по метрике AMI 0.582\n"
     ]
    }
   ],
   "source": [
    "# -- ВАШ КОД ТУТ --\n",
    "\n",
    "### Метрика ухудшилась очень сильно, 2 кластера лучше\n",
    "from sklearn.metrics.cluster import adjusted_mutual_info_score\n",
    "model = KMeans(n_clusters=2).fit(X)\n",
    "score = adjusted_mutual_info_score(Y, model.labels_, average_method='arithmetic')\n",
    "print(\"Качество кластеризации (2 кластера) по метрике AMI %.3f\" % score)\n",
    "\n",
    "\n",
    "model = KMeans(n_clusters=4).fit(X)\n",
    "score = adjusted_mutual_info_score(Y, model.labels_, average_method='arithmetic')\n",
    "print(\"Качество кластеризации (4 кластера) по метрике AMI %.3f\" % score)\n"
   ]
  },
  {
   "cell_type": "markdown",
   "metadata": {
    "id": "fY8FY1FcPTE4"
   },
   "source": [
    "\n",
    "### 10.3 Домашнее задание высокого уровня\n",
    "\n",
    "Загрузите датасет `clustering_hw.csv` из приложенной директории `data` и визуализируйте данные. Должно получится как-то так:\n",
    "\n",
    "![clustering_hw](https://248006.selcdn.ru/public/DS.%20Block%202.%20M7/clustering_hw.png)\n",
    "\n",
    "В рамках домашней работы\n",
    "\n",
    "1. вычислите оптимальное количество кластеров $k$\n",
    "1. обучите k-means с количеством кластеров  $k$\n",
    "1. к какому кластеру принадлежит точка $x=(5, 8)$? к какому кластеру принадлежит точка $x=(0, 5)$? Они принадлежат к разным кластерам или одному?\n",
    "1. Каково качество кластеризации по AMI"
   ]
  },
  {
   "cell_type": "markdown",
   "metadata": {},
   "source": [
    "1. Оптимальное количество кластеров - 3"
   ]
  },
  {
   "cell_type": "code",
   "execution_count": 9,
   "metadata": {
    "id": "4XJifI-CPTE5"
   },
   "outputs": [
    {
     "name": "stdout",
     "output_type": "stream",
     "text": [
      "cluster_num 1, metric 1105.8973781101085\n",
      "cluster_num 2, metric 663.5712032768098\n",
      "cluster_num 3, metric 374.6589714184058\n",
      "cluster_num 4, metric 348.17052724059556\n",
      "cluster_num 5, metric 323.0909288942993\n",
      "cluster_num 6, metric 300.1038848603343\n",
      "best cluster num: 3\n"
     ]
    },
    {
     "data": {
      "image/png": "[encoded data removed]",
      "text/plain": [
       "<Figure size 432x288 with 1 Axes>"
      ]
     },
     "metadata": {
      "needs_background": "light"
     },
     "output_type": "display_data"
    }
   ],
   "source": [
    "# -- ВАШ КОД ТУТ --\n",
    "\n",
    "\n",
    "import pandas as pd\n",
    "from scipy.spatial.distance import euclidean\n",
    "from sklearn.metrics.pairwise import euclidean_distances\n",
    "import matplotlib.pyplot as plt\n",
    "\n",
    "df = pd.read_csv('clustering_hw.csv')\n",
    "X = df.drop('y', axis=1)\n",
    "y = df['y']\n",
    "\n",
    "metrics = []\n",
    "MAX_CLUSTERS = 7\n",
    "for cluster_num in range(1, MAX_CLUSTERS):\n",
    "    kmeans_model = KMeans(n_clusters=cluster_num, random_state=99).fit(X)\n",
    "    centroids, labels = kmeans_model.cluster_centers_, kmeans_model.labels_\n",
    "    metric = 0\n",
    "    for centroid_label in range(cluster_num):\n",
    "        metric += euclidean_distances(\n",
    "            X[labels==centroid_label],\n",
    "            centroids[centroid_label,:].reshape(1,-1)\n",
    "        ).sum(axis=0)[0]\n",
    "    print(\"cluster_num %s, metric %s\" % (cluster_num, metric))\n",
    "    metrics.append(metric)\n",
    "    \n",
    "D = []\n",
    "for i in range(0, len(metrics)-1):\n",
    "    d = abs(metrics[i+1]-metrics[i])/abs(metrics[i]-metrics[i-1])\n",
    "    D.append(d)\n",
    "print(\"best cluster num: %s\" % (np.argmin(D)+1))\n",
    "\n",
    "plt.plot([i+1 for i in range(len(metrics))], metrics)\n",
    "plt.show()\n"
   ]
  },
  {
   "cell_type": "markdown",
   "metadata": {},
   "source": [
    "3. Точки принадлежат разным кластерам\n"
   ]
  },
  {
   "cell_type": "code",
   "execution_count": 18,
   "metadata": {},
   "outputs": [
    {
     "name": "stdout",
     "output_type": "stream",
     "text": [
      "Точка [5, 8] принадлежит кластеру 2\n",
      "Точка [0, 5] принадлежит кластеру 1\n"
     ]
    }
   ],
   "source": [
    "kmeans_model = KMeans(n_clusters=3, random_state=99).fit(X)\n",
    "\n",
    "dots = [[5,8], [0,5]]\n",
    "centroids = kmeans_model.cluster_centers_\n",
    "\n",
    "for dot in dots:\n",
    "    distance = []\n",
    "    for centroid in centroids:\n",
    "        distance.append(euclidean(dot, centroid))\n",
    "    print(f'Точка {dot} принадлежит кластеру {distance.index(max(distance))}')\n",
    "        \n",
    "\n",
    "\n"
   ]
  },
  {
   "cell_type": "markdown",
   "metadata": {},
   "source": [
    "4. AMI = 0.970"
   ]
  },
  {
   "cell_type": "code",
   "execution_count": 11,
   "metadata": {},
   "outputs": [
    {
     "name": "stdout",
     "output_type": "stream",
     "text": [
      "Качество кластеризации (3 кластера) по метрике AMI 0.970\n"
     ]
    }
   ],
   "source": [
    "kmeans_model = KMeans(n_clusters=3, random_state=99).fit(X)\n",
    "score = adjusted_mutual_info_score(y, kmeans_model.labels_, average_method='arithmetic')\n",
    "print(\"Качество кластеризации (3 кластера) по метрике AMI %.3f\" % score)"
   ]
  },
  {
   "cell_type": "markdown",
   "metadata": {
    "id": "28VnuIijPTE8"
   },
   "source": [
    "### Заключение\n",
    "\n",
    "Мы познакомились с двумя метриками\n",
    "\n",
    "* Silhouette. Её используем, когда есть только сами объекты, а метки кластеров отсутствуют в обучающей выборке\n",
    "* AMI. Её используем, когда известны \"истинные\" метки кластеров\n",
    "\n",
    "Метрик намного больше - о них можно почитать [ в документации sklearn](https://scikit-learn.org/stable/modules/classes.html#clustering-metrics)"
   ]
  }
 ],
 "metadata": {
  "colab": {
   "collapsed_sections": [],
   "name": "jun_ml_7_hw-6.ipynb",
   "provenance": []
  },
  "kernelspec": {
   "display_name": "Python 3",
   "language": "python",
   "name": "python3"
  },
  "language_info": {
   "codemirror_mode": {
    "name": "ipython",
    "version": 3
   },
   "file_extension": ".py",
   "mimetype": "text/x-python",
   "name": "python",
   "nbconvert_exporter": "python",
   "pygments_lexer": "ipython3",
   "version": "3.8.5"
  }
 },
 "nbformat": 4,
 "nbformat_minor": 1
}
